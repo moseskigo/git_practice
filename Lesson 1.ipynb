{
 "cells": [
  {
   "cell_type": "code",
   "execution_count": 1,
   "metadata": {
    "id": "qVxRtN7pHScC"
   },
   "outputs": [],
   "source": [
    "#Operators"
   ]
  },
  {
   "cell_type": "code",
   "execution_count": 2,
   "metadata": {
    "colab": {
     "base_uri": "https://localhost:8080/",
     "height": 192
    },
    "id": "aBEsKWNSHbP5",
    "outputId": "25c91374-64b9-4b43-87d5-a4d84ab997be"
   },
   "outputs": [
    {
     "data": {
      "text/plain": [
       "'\\nOperators\\n1. Arithmetic Operators are the simplest math operators\\n+, /,//,%,-,*,**\\n\\n// = Modular\\n** = expontential\\n\\n2. Comparison Operants Compare values and returns TRUE or FALSE\\n>\\n<\\n>=\\n<=\\n== (Equal to)\\n!= (Not equal to)\\nUsed mostly with conditional statements\\n      3. assignment operators\\n      4. Logical Operators\\n\\nTo print out, use Print with parentesis ()\\n\\nVariables are containers to hold your values\\n\\nData types\\n1. Integers   - whole numbers  7,5,8,2,\\n2. Float      - decimal numbers\\n3. Strings    - Characters repesented between \\'single\\' or \"Double\" quotes\\n4. Boolean    - TRUE or FALSE\\n5. List       - are in box [] parenthesis Mutable (use indexing - how items in a list are numbered from index 0 to n)\\n6. Sets       - lists without duplicates, has only unique items. Uses {curly brackets} sets are immutable/uncahngeable\\n7. Tuple      - Immutable (unchangeable) lists uses round (brackets)\\n                membership operators: in, not in\\n8. Dictionary - Uses key value pairs\\n\\n\\n\\n4. Naming conventions\\n    Guidelines on how to name variables.\\n    a. Cannot start with a digit\\n    b. use Underscore (_) for compound words\\n        i. snake_case   : payment_method_xx\\n       ii. carmelCase   : paymentMethodXx\\n      iii. PascalCase   : PaymentMethodXx\\nCompound words are an amalgamation of other words... Combined words\\n\\nPython recommends snake_case for methods and variables\\n\\n\\n\\n'"
      ]
     },
     "execution_count": 2,
     "metadata": {},
     "output_type": "execute_result"
    }
   ],
   "source": [
    "'''\n",
    "Operators\n",
    "1. Arithmetic Operators are the simplest math operators\n",
    "+, /,//,%,-,*,**\n",
    "\n",
    "// = Modular\n",
    "** = expontential\n",
    "\n",
    "2. Comparison Operants Compare values and returns TRUE or FALSE\n",
    ">\n",
    "<\n",
    ">=\n",
    "<=\n",
    "== (Equal to)\n",
    "!= (Not equal to)\n",
    "Used mostly with conditional statements\n",
    "      3. assignment operators\n",
    "      4. Logical Operators\n",
    "\n",
    "To print out, use Print with parentesis ()\n",
    "\n",
    "Variables are containers to hold your values\n",
    "\n",
    "Data types\n",
    "1. Integers   - whole numbers  7,5,8,2,\n",
    "2. Float      - decimal numbers\n",
    "3. Strings    - Characters repesented between 'single' or \"Double\" quotes\n",
    "4. Boolean    - TRUE or FALSE\n",
    "5. List       - are in box [] parenthesis Mutable (use indexing - how items in a list are numbered from index 0 to n)\n",
    "6. Sets       - lists without duplicates, has only unique items. Uses {curly brackets} sets are immutable/uncahngeable\n",
    "7. Tuple      - Immutable (unchangeable) lists uses round (brackets)\n",
    "                membership operators: in, not in\n",
    "8. Dictionary - Uses key value pairs\n",
    "\n",
    "\n",
    "\n",
    "4. Naming conventions\n",
    "    Guidelines on how to name variables.\n",
    "    a. Cannot start with a digit\n",
    "    b. use Underscore (_) for compound words\n",
    "        i. snake_case   : payment_method_xx\n",
    "       ii. carmelCase   : paymentMethodXx\n",
    "      iii. PascalCase   : PaymentMethodXx\n",
    "Compound words are an amalgamation of other words... Combined words\n",
    "\n",
    "Python recommends snake_case for methods and variables\n",
    "\n",
    "\n",
    "\n",
    "'''"
   ]
  },
  {
   "cell_type": "code",
   "execution_count": 3,
   "metadata": {
    "colab": {
     "base_uri": "https://localhost:8080/"
    },
    "id": "UBlPPyRUQDEg",
    "outputId": "c5d8546b-b5bd-4308-ce5c-853b5476368d"
   },
   "outputs": [
    {
     "name": "stdout",
     "output_type": "stream",
     "text": [
      "{'name': 'Eric Doe', 'age': 45, 'address': '67-09', 'gender': 'Male', 'email': 'user@mail', 'course': 'data sci'}\n"
     ]
    }
   ],
   "source": [
    "from re import S\n",
    "from os import truncate\n",
    "#list\n",
    "students = [45, \"moringa\", \"moringa\",True, 89.78, \"Home\"]\n",
    "students.append (\"class of 023\")\n",
    "#print (students)\n",
    "\n",
    "\n",
    "#sets\n",
    "students = {45, \"moringa\",True, 89.78, \"Home\"}\n",
    "students.add (90)\n",
    "#print(students)\n",
    "#print (\"school\" in students)\n",
    "#tuple\n",
    "students = (45, \"moringa\",True, 89.78, \"Home\")\n",
    "#print(students)\n",
    "\n",
    "#Dictionary\n",
    "user = {\n",
    "    \"name\": \"John Doe\",\n",
    "    \"age\": 45,\n",
    "    \"address\":\"67-09\"\n",
    "}\n",
    "\n",
    "\n",
    "user ['name']=\"Eric Doe\"\n",
    "user ['gender']=\"Male\"\n",
    "user[ \"email\"]=\"user@mail\"\n",
    "user[\"course\"]=\"data sci\"\n",
    "#print (user[\"name\"])\n",
    "print (user)"
   ]
  },
  {
   "cell_type": "code",
   "execution_count": 4,
   "metadata": {
    "colab": {
     "base_uri": "https://localhost:8080/"
    },
    "id": "yuq54DiEKhqF",
    "outputId": "4c883e2c-5000-40ed-ba31-677cc21eb854"
   },
   "outputs": [
    {
     "name": "stdout",
     "output_type": "stream",
     "text": [
      "True\n"
     ]
    }
   ],
   "source": [
    "name = \"Moses\"\n",
    "name_two = \"Mozzie\"\n",
    "print(name != name_two)"
   ]
  },
  {
   "cell_type": "code",
   "execution_count": 5,
   "metadata": {
    "colab": {
     "base_uri": "https://localhost:8080/"
    },
    "id": "1_aVPuB4LT8v",
    "outputId": "0b7de3ca-659d-4701-ce84-89ece1100263"
   },
   "outputs": [
    {
     "name": "stdout",
     "output_type": "stream",
     "text": [
      "<class 'float'>\n"
     ]
    }
   ],
   "source": [
    "num_one = 7\n",
    "num_two = 8.25\n",
    "job_class = 'Education'\n",
    "#print (num_one != num_two)\n",
    "#print (num_one>num_two)\n",
    "print(type(num_two))"
   ]
  },
  {
   "cell_type": "code",
   "execution_count": 6,
   "metadata": {
    "colab": {
     "base_uri": "https://localhost:8080/"
    },
    "id": "7pIn4bAUHl19",
    "outputId": "03ecefac-fea6-4e79-8627-98471ac3bc54"
   },
   "outputs": [
    {
     "data": {
      "text/plain": [
       "2"
      ]
     },
     "execution_count": 6,
     "metadata": {},
     "output_type": "execute_result"
    }
   ],
   "source": [
    "1+1"
   ]
  },
  {
   "cell_type": "code",
   "execution_count": 7,
   "metadata": {
    "colab": {
     "base_uri": "https://localhost:8080/"
    },
    "id": "YWkuE7naHqKn",
    "outputId": "7652f1cb-c62e-457a-9bdd-c637f77c4bda"
   },
   "outputs": [
    {
     "data": {
      "text/plain": [
       "3.0"
      ]
     },
     "execution_count": 7,
     "metadata": {},
     "output_type": "execute_result"
    }
   ],
   "source": [
    "6/2"
   ]
  },
  {
   "cell_type": "code",
   "execution_count": 8,
   "metadata": {
    "colab": {
     "base_uri": "https://localhost:8080/"
    },
    "id": "CuOhBxJHHt6f",
    "outputId": "f2d23497-4031-4f96-ee11-f633af2f3cf5"
   },
   "outputs": [
    {
     "data": {
      "text/plain": [
       "3.5"
      ]
     },
     "execution_count": 8,
     "metadata": {},
     "output_type": "execute_result"
    }
   ],
   "source": [
    "7/2"
   ]
  },
  {
   "cell_type": "code",
   "execution_count": 9,
   "metadata": {
    "colab": {
     "base_uri": "https://localhost:8080/",
     "height": 35
    },
    "id": "KhOu6dtAHyDQ",
    "outputId": "cfe25b76-c3a6-48bc-dd5b-e5d2043d7a50"
   },
   "outputs": [
    {
     "data": {
      "text/plain": [
       "' integer division'"
      ]
     },
     "execution_count": 9,
     "metadata": {},
     "output_type": "execute_result"
    }
   ],
   "source": [
    "''' integer division'''"
   ]
  },
  {
   "cell_type": "code",
   "execution_count": 10,
   "metadata": {
    "colab": {
     "base_uri": "https://localhost:8080/"
    },
    "id": "bl0c_xbHH5UP",
    "outputId": "39f4e242-a81e-4682-c22c-5d5f4b200688"
   },
   "outputs": [
    {
     "data": {
      "text/plain": [
       "3"
      ]
     },
     "execution_count": 10,
     "metadata": {},
     "output_type": "execute_result"
    }
   ],
   "source": [
    "7//2"
   ]
  },
  {
   "cell_type": "code",
   "execution_count": 11,
   "metadata": {
    "colab": {
     "base_uri": "https://localhost:8080/",
     "height": 35
    },
    "id": "6vMGTqSAH-FK",
    "outputId": "3f2433a7-317d-490a-9197-c6144887112f"
   },
   "outputs": [
    {
     "data": {
      "text/plain": [
       "'modulars\\n\\nThis is the remainder of a fraction value i.e not an integer\\n\\n'"
      ]
     },
     "execution_count": 11,
     "metadata": {},
     "output_type": "execute_result"
    }
   ],
   "source": [
    "'''modulars\n",
    "\n",
    "This is the remainder of a fraction value i.e not an integer\n",
    "\n",
    "'''"
   ]
  },
  {
   "cell_type": "code",
   "execution_count": 12,
   "metadata": {
    "colab": {
     "base_uri": "https://localhost:8080/"
    },
    "id": "SVvd5dxWILJJ",
    "outputId": "301aecdf-0079-462e-a18f-219264a23990"
   },
   "outputs": [
    {
     "data": {
      "text/plain": [
       "1"
      ]
     },
     "execution_count": 12,
     "metadata": {},
     "output_type": "execute_result"
    }
   ],
   "source": [
    "7%2"
   ]
  },
  {
   "cell_type": "code",
   "execution_count": 13,
   "metadata": {
    "colab": {
     "base_uri": "https://localhost:8080/"
    },
    "id": "DYshWFvjIN64",
    "outputId": "770ae976-585f-44bb-ee6a-9229dcafe453"
   },
   "outputs": [
    {
     "data": {
      "text/plain": [
       "1"
      ]
     },
     "execution_count": 13,
     "metadata": {},
     "output_type": "execute_result"
    }
   ],
   "source": [
    "5%2"
   ]
  },
  {
   "cell_type": "code",
   "execution_count": 14,
   "metadata": {
    "colab": {
     "base_uri": "https://localhost:8080/"
    },
    "id": "whsZ0WX9IRQu",
    "outputId": "62c86b12-19de-4dd6-e88c-7d37855e513c"
   },
   "outputs": [
    {
     "data": {
      "text/plain": [
       "2"
      ]
     },
     "execution_count": 14,
     "metadata": {},
     "output_type": "execute_result"
    }
   ],
   "source": [
    "7//3"
   ]
  },
  {
   "cell_type": "code",
   "execution_count": 15,
   "metadata": {
    "colab": {
     "base_uri": "https://localhost:8080/"
    },
    "id": "-Se3EOdTIf92",
    "outputId": "55152e88-3b31-450c-a31c-ab2e926d6ea9"
   },
   "outputs": [
    {
     "data": {
      "text/plain": [
       "8"
      ]
     },
     "execution_count": 15,
     "metadata": {},
     "output_type": "execute_result"
    }
   ],
   "source": [
    "2**3"
   ]
  },
  {
   "cell_type": "code",
   "execution_count": 16,
   "metadata": {
    "id": "KTMJ68RqJqLq"
   },
   "outputs": [
    {
     "name": "stdout",
     "output_type": "stream",
     "text": [
      "False\n"
     ]
    }
   ],
   "source": [
    "monday=\"Jones\"\n",
    "tuesday=\"Jam\"\n",
    "\n",
    "print(monday==tuesday)"
   ]
  },
  {
   "cell_type": "code",
   "execution_count": 2,
   "metadata": {},
   "outputs": [
    {
     "name": "stdout",
     "output_type": "stream",
     "text": [
      "!\n"
     ]
    }
   ],
   "source": [
    "x = \"Hello, World!\"[-1]\n",
    "print(x)"
   ]
  },
  {
   "cell_type": "code",
   "execution_count": 3,
   "metadata": {},
   "outputs": [
    {
     "name": "stdout",
     "output_type": "stream",
     "text": [
      "7\n"
     ]
    }
   ],
   "source": [
    "x = len([\"a\", \"b\", \"c\", \"d\", \"e\", \"f\", \"g\"])\n",
    "print(x)"
   ]
  },
  {
   "cell_type": "code",
   "execution_count": 4,
   "metadata": {},
   "outputs": [
    {
     "data": {
      "text/plain": [
       "True"
      ]
     },
     "execution_count": 4,
     "metadata": {},
     "output_type": "execute_result"
    }
   ],
   "source": [
    "\"hello, world!\".title() != \"hello, world!\""
   ]
  },
  {
   "cell_type": "code",
   "execution_count": 11,
   "metadata": {},
   "outputs": [
    {
     "name": "stdout",
     "output_type": "stream",
     "text": [
      "7\n"
     ]
    }
   ],
   "source": [
    "x = 7\n",
    "if (x % 3 == 0) and (x % 5 == 0):\n",
    "    print(\"FizzBuzz\")\n",
    "elif x % 3 == 0:\n",
    "    print(\"Fizz\")\n",
    "elif x % 5 == 0:\n",
    "    print(\"Buzz\")\n",
    "else:\n",
    "    print(x)"
   ]
  },
  {
   "cell_type": "code",
   "execution_count": 16,
   "metadata": {},
   "outputs": [],
   "source": [
    "x = None\n",
    "colors = [\"blue\", \"orange\", \"green\"]\n",
    "for color in colors:\n",
    "    if color.startswith(\"o\"):\n",
    "        x = color"
   ]
  },
  {
   "cell_type": "code",
   "execution_count": 24,
   "metadata": {},
   "outputs": [
    {
     "name": "stdout",
     "output_type": "stream",
     "text": [
      "0.97\n"
     ]
    }
   ],
   "source": [
    "students = [\n",
    "    {\"id\": 1, \"level\": \"senior\", \"grade\": 0.97},\n",
    "    {\"id\": 2, \"level\": \"senior\", \"grade\": 0.72},\n",
    "    {\"id\": 3, \"level\": \"junior\", \"grade\": 0.89}\n",
    "]\n",
    "\n",
    "\n",
    "grades = []\n",
    "for student in students:\n",
    "    grades.append(student[\"grade\"])\n",
    "print(max(grades))"
   ]
  },
  {
   "cell_type": "code",
   "execution_count": 25,
   "metadata": {},
   "outputs": [
    {
     "name": "stdout",
     "output_type": "stream",
     "text": [
      "one\n",
      "three\n"
     ]
    }
   ],
   "source": [
    "def one():\n",
    "    print(\"one\")\n",
    "\n",
    "def two():\n",
    "    return \"two\"\n",
    "\n",
    "def three():\n",
    "    one()\n",
    "    two()\n",
    "    print(\"three\")\n",
    "\n",
    "three()"
   ]
  },
  {
   "cell_type": "code",
   "execution_count": 13,
   "metadata": {},
   "outputs": [
    {
     "data": {
      "text/plain": [
       "([3, 8, 2, 5], 'max')"
      ]
     },
     "execution_count": 13,
     "metadata": {},
     "output_type": "execute_result"
    }
   ],
   "source": [
    "[3,8,2,5], \"max\""
   ]
  },
  {
   "cell_type": "code",
   "execution_count": 10,
   "metadata": {},
   "outputs": [
    {
     "name": "stdout",
     "output_type": "stream",
     "text": [
      "Weeks: 5\n",
      "Month: january\n",
      "I will be travelling for 5 weeks starting in the month of January\n"
     ]
    }
   ],
   "source": [
    "number_of_weeks = str(input(\"Weeks: \"))\n",
    "\n",
    "travel_month = str(input(\"Month: \")).capitalize()\n",
    "\n",
    "traveling_schedule = str('I will be travelling for '\n",
    "                         + number_of_weeks \n",
    "                         +' weeks starting in the month of '\n",
    "                         + travel_month)\n",
    "\n",
    "print(traveling_schedule)"
   ]
  },
  {
   "cell_type": "code",
   "execution_count": 15,
   "metadata": {},
   "outputs": [
    {
     "name": "stdout",
     "output_type": "stream",
     "text": [
      "False\n"
     ]
    }
   ],
   "source": [
    "ends_with_com = \"art.vandelay@vandelay.co\"\n",
    "ends_with_com = ends_with_com.endswith(\".com\")\n",
    "\n",
    "print(ends_with_com)"
   ]
  },
  {
   "cell_type": "code",
   "execution_count": null,
   "metadata": {},
   "outputs": [],
   "source": []
  }
 ],
 "metadata": {
  "colab": {
   "provenance": []
  },
  "kernelspec": {
   "display_name": "Python 3 (ipykernel)",
   "language": "python",
   "name": "python3"
  },
  "language_info": {
   "codemirror_mode": {
    "name": "ipython",
    "version": 3
   },
   "file_extension": ".py",
   "mimetype": "text/x-python",
   "name": "python",
   "nbconvert_exporter": "python",
   "pygments_lexer": "ipython3",
   "version": "3.8.5"
  }
 },
 "nbformat": 4,
 "nbformat_minor": 1
}
