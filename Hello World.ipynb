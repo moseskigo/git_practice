{
 "cells": [
  {
   "cell_type": "code",
   "execution_count": 1,
   "id": "7602ddc6",
   "metadata": {},
   "outputs": [
    {
     "name": "stdout",
     "output_type": "stream",
     "text": [
      "Hello World\n"
     ]
    }
   ],
   "source": [
    "print (\"Hello World\")"
   ]
  },
  {
   "cell_type": "code",
   "execution_count": 1,
   "id": "9fce2520",
   "metadata": {},
   "outputs": [
    {
     "name": "stdout",
     "output_type": "stream",
     "text": [
      "Hello World!Hello sun!!!Hello sky!!!!\n"
     ]
    }
   ],
   "source": [
    "# print(\"Hello World!\")\n",
    "# print(\"Hello sun!\")\n",
    "# print (\"Hello sky\")\n",
    "print(\"Hello World!\",end =\"\")\n",
    "print(\"Hello sun!\", end=\"!!\")\n",
    "print (\"Hello sky!\",end =\"!!!\\n\")"
   ]
  },
  {
   "cell_type": "code",
   "execution_count": 5,
   "id": "378d8d77",
   "metadata": {},
   "outputs": [
    {
     "name": "stdout",
     "output_type": "stream",
     "text": [
      "2\n"
     ]
    }
   ],
   "source": [
    "my_list = [5,2,3,4,1,6,7,8,9]\n",
    "\n",
    "for i in my_list:\n",
    "  if i % 2 == 0:\n",
    "    print(i)\n",
    "    break\n",
    "else:\n",
    "    print('Loop complete')"
   ]
  }
 ],
 "metadata": {
  "kernelspec": {
   "display_name": "Python 3 (ipykernel)",
   "language": "python",
   "name": "python3"
  },
  "language_info": {
   "codemirror_mode": {
    "name": "ipython",
    "version": 3
   },
   "file_extension": ".py",
   "mimetype": "text/x-python",
   "name": "python",
   "nbconvert_exporter": "python",
   "pygments_lexer": "ipython3",
   "version": "3.8.5"
  }
 },
 "nbformat": 4,
 "nbformat_minor": 5
}
