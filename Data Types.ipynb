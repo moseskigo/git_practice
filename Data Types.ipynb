{
 "cells": [
  {
   "cell_type": "markdown",
   "id": "25745da0",
   "metadata": {},
   "source": [
    "#Strings\n",
    "\n",
    "You can convert a value to a string using the syntax str()"
   ]
  },
  {
   "cell_type": "code",
   "execution_count": 2,
   "id": "c04c5357",
   "metadata": {},
   "outputs": [
    {
     "data": {
      "text/plain": [
       "'HELLO'"
      ]
     },
     "execution_count": 2,
     "metadata": {},
     "output_type": "execute_result"
    }
   ],
   "source": [
    "'hello'.upper()"
   ]
  },
  {
   "cell_type": "code",
   "execution_count": 3,
   "id": "ebaf1128",
   "metadata": {},
   "outputs": [
    {
     "data": {
      "text/plain": [
       "'hello'"
      ]
     },
     "execution_count": 3,
     "metadata": {},
     "output_type": "execute_result"
    }
   ],
   "source": [
    "'HELLO'.lower()"
   ]
  },
  {
   "cell_type": "code",
   "execution_count": 10,
   "id": "af995599",
   "metadata": {},
   "outputs": [
    {
     "data": {
      "text/plain": [
       "'hello world'"
      ]
     },
     "execution_count": 10,
     "metadata": {},
     "output_type": "execute_result"
    }
   ],
   "source": [
    "'hello '+'world'"
   ]
  },
  {
   "cell_type": "code",
   "execution_count": 9,
   "id": "c75a6af9",
   "metadata": {},
   "outputs": [
    {
     "data": {
      "text/plain": [
       "'hello hello hello '"
      ]
     },
     "execution_count": 9,
     "metadata": {},
     "output_type": "execute_result"
    }
   ],
   "source": [
    "'hello '*3"
   ]
  },
  {
   "cell_type": "code",
   "execution_count": 7,
   "id": "3d2d6d9c",
   "metadata": {},
   "outputs": [
    {
     "data": {
      "text/plain": [
       "'hello'"
      ]
     },
     "execution_count": 7,
     "metadata": {},
     "output_type": "execute_result"
    }
   ],
   "source": [
    "'hello'"
   ]
  },
  {
   "cell_type": "code",
   "execution_count": 16,
   "id": "5be468cc",
   "metadata": {},
   "outputs": [
    {
     "data": {
      "text/plain": [
       "'1'"
      ]
     },
     "execution_count": 16,
     "metadata": {},
     "output_type": "execute_result"
    }
   ],
   "source": [
    "str('1')"
   ]
  },
  {
   "cell_type": "markdown",
   "id": "9079cee6",
   "metadata": {},
   "source": [
    "##Numbers\n",
    "...\n",
    "These include \n",
    "\n",
    "1. Integers - whole numbers like 12 \n",
    "- you can convert some other data types to integers with the int() function\n",
    "\n",
    "2. Floats - decimal numbers like 1.2\n",
    "- you can convert some other data types to floats with the float() function"
   ]
  },
  {
   "cell_type": "code",
   "execution_count": 24,
   "id": "f6b74417",
   "metadata": {},
   "outputs": [
    {
     "data": {
      "text/plain": [
       "1"
      ]
     },
     "execution_count": 24,
     "metadata": {},
     "output_type": "execute_result"
    }
   ],
   "source": [
    "int('1')\n",
    "#1\n",
    "int(1.1)\n",
    "#1\n",
    "float(\"1.1\")\n",
    "#1.1\n",
    "\n",
    "#Python converts an int to a float when computing math operations\n",
    "\n",
    "4/3\n",
    "#1.3333333333333333\n",
    "4/3.0\n",
    "#1.3333333333333333\n",
    "float(4 / 3)\n",
    "#1.3333333333333333\n",
    "int(4 / 3)\n",
    "#1"
   ]
  },
  {
   "cell_type": "markdown",
   "id": "0e9ec8fc",
   "metadata": {},
   "source": [
    "###Sequence Types\n",
    "\n",
    "##Lists\n",
    "- A list is an ordered sequence of items used to store data. They are identified by box brackets[] eg [1,2,3,4,5]\n",
    "- specific elements in the list like 1, above are called indicies (plu) index (sing). indicies start from 0 and go in increments of 1.\n",
    "- To count the number of indices in a list, use len()\n",
    "- To sort the indices in a list, use sorted\n"
   ]
  },
  {
   "cell_type": "code",
   "execution_count": 18,
   "id": "98058f59",
   "metadata": {},
   "outputs": [
    {
     "name": "stdout",
     "output_type": "stream",
     "text": [
      "[1, 8, 2, 15, 9, 14, 3, 6, 18, 7, 16]\n"
     ]
    }
   ],
   "source": [
    "[1,2,3,4,5,88]\n",
    "#[1, 2, 3, 4, 5, 88]\n",
    "list()\n",
    "#[]\n",
    "\n",
    "#indices\n",
    "\n",
    "list_abc = [1, 2, 3, 4, 5, 88]\n",
    "\n",
    "list_abc[0]\n",
    "#1\n",
    "list_abc[4]\n",
    "#5\n",
    "len(list_abc)\n",
    "#6\n",
    "list_abc.pop()\n",
    "#5\n",
    "list_xyz = [1, 8, 2, 12, 15, 9, 14, 3, 6, 18, 7, 16]\n",
    "sorted(list_xyz)\n",
    "#[1, 2, 3, 6, 7, 8, 9, 12, 14, 15, 16, 18]\n",
    "\n",
    "list_xyz.remove(12)\n",
    "sorted(list_xyz)\n",
    "print(list_xyz)\n",
    "#[1, 8, 2, 15, 9, 14, 3, 6, 18, 7, 16]\n",
    "\n",
    "#type(list_xyz)\n",
    "#list\n",
    "\n",
    "new_list = list_abc + list_xyz"
   ]
  },
  {
   "cell_type": "markdown",
   "id": "9cc37871",
   "metadata": {},
   "source": [
    "##Tuples\n",
    "\n",
    "-These are unchangeable lists... You cannot add or remove indicies from tuples\n",
    "-They are identified by use of normal parenthesis\n",
    "-Their unchangeable nature is best used when working with data from a database\n",
    "-To let Python know that it's looking at a tuple, there has to be at least one comma- even in tuples with only one element: (1,)"
   ]
  },
  {
   "cell_type": "code",
   "execution_count": 20,
   "id": "f35d2eb9",
   "metadata": {},
   "outputs": [
    {
     "data": {
      "text/plain": [
       "tuple"
      ]
     },
     "execution_count": 20,
     "metadata": {},
     "output_type": "execute_result"
    }
   ],
   "source": [
    "asd_jkl=(1, 2, 3, 4)\n",
    "type(asd_jkl)\n",
    "#tuple"
   ]
  },
  {
   "cell_type": "code",
   "execution_count": null,
   "id": "d1ecbb03",
   "metadata": {},
   "outputs": [],
   "source": []
  },
  {
   "cell_type": "code",
   "execution_count": null,
   "id": "9e23a449",
   "metadata": {},
   "outputs": [],
   "source": []
  },
  {
   "cell_type": "code",
   "execution_count": 17,
   "id": "597f5360",
   "metadata": {},
   "outputs": [
    {
     "ename": "TypeError",
     "evalue": "'int' object is not iterable",
     "output_type": "error",
     "traceback": [
      "\u001b[1;31m---------------------------------------------------------------------------\u001b[0m",
      "\u001b[1;31mTypeError\u001b[0m                                 Traceback (most recent call last)",
      "Cell \u001b[1;32mIn[17], line 3\u001b[0m\n\u001b[0;32m      1\u001b[0m list_xyz \u001b[38;5;241m=\u001b[39m [\u001b[38;5;241m1\u001b[39m, \u001b[38;5;241m8\u001b[39m, \u001b[38;5;241m2\u001b[39m, \u001b[38;5;241m12\u001b[39m, \u001b[38;5;241m15\u001b[39m, \u001b[38;5;241m9\u001b[39m, \u001b[38;5;241m14\u001b[39m, \u001b[38;5;241m3\u001b[39m, \u001b[38;5;241m6\u001b[39m, \u001b[38;5;241m18\u001b[39m, \u001b[38;5;241m7\u001b[39m, \u001b[38;5;241m16\u001b[39m]\n\u001b[1;32m----> 3\u001b[0m \u001b[43mlist_xyz\u001b[49m\u001b[38;5;241;43m.\u001b[39;49m\u001b[43mextend\u001b[49m\u001b[43m(\u001b[49m\u001b[38;5;241;43m188\u001b[39;49m\u001b[43m)\u001b[49m\n",
      "\u001b[1;31mTypeError\u001b[0m: 'int' object is not iterable"
     ]
    }
   ],
   "source": [
    "list_xyz = [1, 8, 2, 12, 15, 9, 14, 3, 6, 18, 7, 16]\n",
    "\n",
    "list_xyz.extend(188)"
   ]
  },
  {
   "cell_type": "code",
   "execution_count": 19,
   "id": "40c72015",
   "metadata": {},
   "outputs": [],
   "source": [
    "list_xyz = [1, 8, 2, 12, 15, 9, 14, 3, 6, 18, 7, 16]\n",
    "\n",
    "list_abc = [1, 2, 3, 4, 5, 88]\n",
    "\n",
    "new_list = list_abc + list_xyz"
   ]
  },
  {
   "cell_type": "markdown",
   "id": "fa6a4e81",
   "metadata": {},
   "source": [
    "##Range\n",
    "The range type represents an immutable sequence of numbers and is commonly used for looping a specific number of times in for loops."
   ]
  },
  {
   "cell_type": "code",
   "execution_count": 18,
   "id": "2985f68c",
   "metadata": {
    "scrolled": true
   },
   "outputs": [
    {
     "data": {
      "text/plain": [
       "range(0, 8, 2)"
      ]
     },
     "execution_count": 18,
     "metadata": {},
     "output_type": "execute_result"
    }
   ],
   "source": [
    "tuple(range(10))\n",
    "#(0, 1, 2, 3, 4, 5, 6, 7, 8, 9)\n",
    "list(range(1,11))\n",
    "#[1, 2, 3, 4, 5, 6, 7, 8, 9, 10]\n",
    "list(range(0,-10,-1))\n",
    "#[0, -1, -2, -3, -4, -5, -6, -7, -8, -9]\n",
    "list(range(-10,10))\n",
    "#[-10, -9, -8, -7, -6, -5, -4, -3, -2, -1, 0, 1, 2, 3, 4, 5, 6, 7, 8, 9]\n",
    "\n",
    "range_one=list(range(-10,10,2))\n",
    "#print(range_one)\n",
    "#(-10, -8, -6, -4, -2, 0, 2, 4, 6, 8)\n",
    "\n",
    "r=range(0, 20, 2)\n",
    "r\n",
    "#range(0, 20, 2)\n",
    "11 in r\n",
    "#False\n",
    "r.index(10)\n",
    "#5\n",
    "r[:5]\n",
    "#range(0, 10, 2)\n",
    "r[:4]\n",
    "#range(0, 8, 2)\n",
    "\n"
   ]
  },
  {
   "cell_type": "code",
   "execution_count": 22,
   "id": "d2024917",
   "metadata": {},
   "outputs": [
    {
     "ename": "NameError",
     "evalue": "name 'list_abc' is not defined",
     "output_type": "error",
     "traceback": [
      "\u001b[1;31m---------------------------------------------------------------------------\u001b[0m",
      "\u001b[1;31mNameError\u001b[0m                                 Traceback (most recent call last)",
      "Cell \u001b[1;32mIn[22], line 1\u001b[0m\n\u001b[1;32m----> 1\u001b[0m \u001b[43mlist_abc\u001b[49m\n",
      "\u001b[1;31mNameError\u001b[0m: name 'list_abc' is not defined"
     ]
    }
   ],
   "source": [
    "list_abc"
   ]
  },
  {
   "cell_type": "markdown",
   "id": "041214a3",
   "metadata": {},
   "source": [
    "##Strings"
   ]
  }
 ],
 "metadata": {
  "kernelspec": {
   "display_name": "Python (learn-env)",
   "language": "python",
   "name": "learn-env"
  },
  "language_info": {
   "codemirror_mode": {
    "name": "ipython",
    "version": 3
   },
   "file_extension": ".py",
   "mimetype": "text/x-python",
   "name": "python",
   "nbconvert_exporter": "python",
   "pygments_lexer": "ipython3",
   "version": "3.11.4"
  }
 },
 "nbformat": 4,
 "nbformat_minor": 5
}
