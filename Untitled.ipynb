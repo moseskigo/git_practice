{
 "cells": [
  {
   "cell_type": "markdown",
   "id": "8fd171a4",
   "metadata": {},
   "source": [
    "#Test"
   ]
  },
  {
   "cell_type": "code",
   "execution_count": 1,
   "id": "45cb4131",
   "metadata": {},
   "outputs": [
    {
     "name": "stdout",
     "output_type": "stream",
     "text": [
      "Hello world!\n",
      "Hello sun!\n",
      "Hello sky!\n",
      "Hello world! Hello sun!!! Hello sky!!!!\n"
     ]
    }
   ],
   "source": [
    "print(\"Hello world!\")\n",
    "print(\"Hello sun!\")\n",
    "print(\"Hello sky!\")\n",
    "print(\"Hello world!\", end=\" \")\n",
    "print(\"Hello sun!\", end=\"!! \")\n",
    "print(\"Hello sky!\", end=\"!!!\\n\")"
   ]
  },
  {
   "cell_type": "code",
   "execution_count": null,
   "id": "c2a95a4c",
   "metadata": {},
   "outputs": [],
   "source": []
  }
 ],
 "metadata": {
  "kernelspec": {
   "display_name": "Python (learn-env)",
   "language": "python",
   "name": "learn-env"
  },
  "language_info": {
   "codemirror_mode": {
    "name": "ipython",
    "version": 3
   },
   "file_extension": ".py",
   "mimetype": "text/x-python",
   "name": "python",
   "nbconvert_exporter": "python",
   "pygments_lexer": "ipython3",
   "version": "3.11.4"
  }
 },
 "nbformat": 4,
 "nbformat_minor": 5
}
